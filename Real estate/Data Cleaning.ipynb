{
 "cells": [
  {
   "cell_type": "code",
   "execution_count": 1,
   "id": "8e8f66f7",
   "metadata": {},
   "outputs": [],
   "source": [
    "################################## Data Analysis & Calculation ##################################\n",
    "import pandas as pd  \n",
    "import numpy as np  \n",
    "\n",
    "############# Data Visualization ###############\n",
    "import seaborn as sns  \n",
    "import matplotlib.pyplot as plt \n",
    "%matplotlib inline"
   ]
  },
  {
   "cell_type": "code",
   "execution_count": 2,
   "id": "fe42237a",
   "metadata": {},
   "outputs": [
    {
     "data": {
      "text/html": [
       "<div>\n",
       "<style scoped>\n",
       "    .dataframe tbody tr th:only-of-type {\n",
       "        vertical-align: middle;\n",
       "    }\n",
       "\n",
       "    .dataframe tbody tr th {\n",
       "        vertical-align: top;\n",
       "    }\n",
       "\n",
       "    .dataframe thead th {\n",
       "        text-align: right;\n",
       "    }\n",
       "</style>\n",
       "<table border=\"1\" class=\"dataframe\">\n",
       "  <thead>\n",
       "    <tr style=\"text-align: right;\">\n",
       "      <th></th>\n",
       "      <th>Unnamed: 0</th>\n",
       "      <th>Property_Name</th>\n",
       "      <th>Property Title</th>\n",
       "      <th>Price</th>\n",
       "      <th>Location</th>\n",
       "      <th>Total_Area(SQFT)</th>\n",
       "      <th>Price_per_SQFT</th>\n",
       "      <th>Description</th>\n",
       "      <th>Total_Rooms</th>\n",
       "      <th>Balcony</th>\n",
       "      <th>city</th>\n",
       "      <th>property_type</th>\n",
       "      <th>BHK</th>\n",
       "    </tr>\n",
       "  </thead>\n",
       "  <tbody>\n",
       "    <tr>\n",
       "      <th>0</th>\n",
       "      <td>0</td>\n",
       "      <td>Casagrand ECR 14</td>\n",
       "      <td>4 BHK Flat for sale in Kanathur Reddikuppam, C...</td>\n",
       "      <td>19900000.0</td>\n",
       "      <td>Kanathur Reddikuppam, Chennai</td>\n",
       "      <td>2583</td>\n",
       "      <td>7700.0</td>\n",
       "      <td>Best 4 BHK Apartment for modern-day lifestyle ...</td>\n",
       "      <td>4</td>\n",
       "      <td>Yes</td>\n",
       "      <td>Chennai</td>\n",
       "      <td>Flat</td>\n",
       "      <td>4.0</td>\n",
       "    </tr>\n",
       "    <tr>\n",
       "      <th>1</th>\n",
       "      <td>1</td>\n",
       "      <td>Ramanathan Nagar, Pozhichalur,Chennai</td>\n",
       "      <td>10 BHK Independent House for sale in Pozhichal...</td>\n",
       "      <td>22500000.0</td>\n",
       "      <td>Ramanathan Nagar, Pozhichalur,Chennai</td>\n",
       "      <td>7000</td>\n",
       "      <td>3210.0</td>\n",
       "      <td>Looking for a 10 BHK Independent House for sal...</td>\n",
       "      <td>6</td>\n",
       "      <td>Yes</td>\n",
       "      <td>Chennai</td>\n",
       "      <td>House</td>\n",
       "      <td>10.0</td>\n",
       "    </tr>\n",
       "    <tr>\n",
       "      <th>2</th>\n",
       "      <td>2</td>\n",
       "      <td>DAC Prapthi</td>\n",
       "      <td>3 BHK Flat for sale in West Tambaram, Chennai</td>\n",
       "      <td>10000000.0</td>\n",
       "      <td>Kasthuribai Nagar, West Tambaram,Chennai</td>\n",
       "      <td>1320</td>\n",
       "      <td>7580.0</td>\n",
       "      <td>Property for sale in Tambaram, Chennai. This 3...</td>\n",
       "      <td>3</td>\n",
       "      <td>No</td>\n",
       "      <td>Chennai</td>\n",
       "      <td>Flat</td>\n",
       "      <td>3.0</td>\n",
       "    </tr>\n",
       "    <tr>\n",
       "      <th>3</th>\n",
       "      <td>3</td>\n",
       "      <td>Naveenilaya,Chepauk, Triplicane,Chennai</td>\n",
       "      <td>7 BHK Independent House for sale in Triplicane...</td>\n",
       "      <td>33300000.0</td>\n",
       "      <td>Naveenilaya,Chepauk, Triplicane,Chennai</td>\n",
       "      <td>4250</td>\n",
       "      <td>7840.0</td>\n",
       "      <td>Entire Building for sale with 7 units of singl...</td>\n",
       "      <td>5</td>\n",
       "      <td>Yes</td>\n",
       "      <td>Chennai</td>\n",
       "      <td>House</td>\n",
       "      <td>7.0</td>\n",
       "    </tr>\n",
       "    <tr>\n",
       "      <th>4</th>\n",
       "      <td>4</td>\n",
       "      <td>DRA 90 Degrees</td>\n",
       "      <td>3 BHK Flat for sale in Pallikaranai, Chennai</td>\n",
       "      <td>13000000.0</td>\n",
       "      <td>Rose Avenue, Pallikaranai,Chennai</td>\n",
       "      <td>1444</td>\n",
       "      <td>9000.0</td>\n",
       "      <td>Looking for a 3 BHK Apartment for sale in Chen...</td>\n",
       "      <td>3</td>\n",
       "      <td>No</td>\n",
       "      <td>Chennai</td>\n",
       "      <td>Flat</td>\n",
       "      <td>3.0</td>\n",
       "    </tr>\n",
       "  </tbody>\n",
       "</table>\n",
       "</div>"
      ],
      "text/plain": [
       "   Unnamed: 0                            Property_Name  \\\n",
       "0           0                         Casagrand ECR 14   \n",
       "1           1    Ramanathan Nagar, Pozhichalur,Chennai   \n",
       "2           2                              DAC Prapthi   \n",
       "3           3  Naveenilaya,Chepauk, Triplicane,Chennai   \n",
       "4           4                           DRA 90 Degrees   \n",
       "\n",
       "                                      Property Title       Price  \\\n",
       "0  4 BHK Flat for sale in Kanathur Reddikuppam, C...  19900000.0   \n",
       "1  10 BHK Independent House for sale in Pozhichal...  22500000.0   \n",
       "2      3 BHK Flat for sale in West Tambaram, Chennai  10000000.0   \n",
       "3  7 BHK Independent House for sale in Triplicane...  33300000.0   \n",
       "4       3 BHK Flat for sale in Pallikaranai, Chennai  13000000.0   \n",
       "\n",
       "                                   Location  Total_Area(SQFT)  Price_per_SQFT  \\\n",
       "0             Kanathur Reddikuppam, Chennai              2583          7700.0   \n",
       "1     Ramanathan Nagar, Pozhichalur,Chennai              7000          3210.0   \n",
       "2  Kasthuribai Nagar, West Tambaram,Chennai              1320          7580.0   \n",
       "3   Naveenilaya,Chepauk, Triplicane,Chennai              4250          7840.0   \n",
       "4         Rose Avenue, Pallikaranai,Chennai              1444          9000.0   \n",
       "\n",
       "                                         Description  Total_Rooms Balcony  \\\n",
       "0  Best 4 BHK Apartment for modern-day lifestyle ...            4     Yes   \n",
       "1  Looking for a 10 BHK Independent House for sal...            6     Yes   \n",
       "2  Property for sale in Tambaram, Chennai. This 3...            3      No   \n",
       "3  Entire Building for sale with 7 units of singl...            5     Yes   \n",
       "4  Looking for a 3 BHK Apartment for sale in Chen...            3      No   \n",
       "\n",
       "      city property_type   BHK  \n",
       "0  Chennai          Flat   4.0  \n",
       "1  Chennai         House  10.0  \n",
       "2  Chennai          Flat   3.0  \n",
       "3  Chennai         House   7.0  \n",
       "4  Chennai          Flat   3.0  "
      ]
     },
     "execution_count": 2,
     "metadata": {},
     "output_type": "execute_result"
    }
   ],
   "source": [
    "new = pd.read_csv(r\"C:\\Users\\HP\\Desktop\\Power BI\\projects\\Real estate\\Indian_Real_Estate_Clean_Data.csv\") \n",
    "\n",
    "# Looking at the first five rows\n",
    "new.head()"
   ]
  },
  {
   "cell_type": "code",
   "execution_count": 3,
   "id": "53074d69",
   "metadata": {},
   "outputs": [
    {
     "data": {
      "text/plain": [
       "Index(['Unnamed: 0', 'Property_Name', 'Property Title', 'Price', 'Location',\n",
       "       'Total_Area(SQFT)', 'Price_per_SQFT', 'Description', 'Total_Rooms',\n",
       "       'Balcony', 'city', 'property_type', 'BHK'],\n",
       "      dtype='object')"
      ]
     },
     "execution_count": 3,
     "metadata": {},
     "output_type": "execute_result"
    }
   ],
   "source": [
    "new.columns"
   ]
  },
  {
   "cell_type": "code",
   "execution_count": 4,
   "id": "a5c64193",
   "metadata": {},
   "outputs": [],
   "source": [
    "new.drop([\"Unnamed: 0\"],axis=1, inplace=True)"
   ]
  },
  {
   "cell_type": "code",
   "execution_count": 5,
   "id": "52cc3bfd",
   "metadata": {},
   "outputs": [
    {
     "name": "stdout",
     "output_type": "stream",
     "text": [
      "<class 'pandas.core.frame.DataFrame'>\n",
      "RangeIndex: 14525 entries, 0 to 14524\n",
      "Data columns (total 12 columns):\n",
      " #   Column            Non-Null Count  Dtype  \n",
      "---  ------            --------------  -----  \n",
      " 0   Property_Name     14525 non-null  object \n",
      " 1   Property Title    14525 non-null  object \n",
      " 2   Price             14525 non-null  float64\n",
      " 3   Location          14525 non-null  object \n",
      " 4   Total_Area(SQFT)  14525 non-null  int64  \n",
      " 5   Price_per_SQFT    14525 non-null  float64\n",
      " 6   Description       14525 non-null  object \n",
      " 7   Total_Rooms       14525 non-null  int64  \n",
      " 8   Balcony           14525 non-null  object \n",
      " 9   city              14525 non-null  object \n",
      " 10  property_type     14525 non-null  object \n",
      " 11  BHK               14513 non-null  float64\n",
      "dtypes: float64(3), int64(2), object(7)\n",
      "memory usage: 1.3+ MB\n"
     ]
    }
   ],
   "source": [
    "# What type of values are stored in the columns?\n",
    "new.info()"
   ]
  },
  {
   "cell_type": "code",
   "execution_count": 6,
   "id": "c01f9a34",
   "metadata": {},
   "outputs": [
    {
     "data": {
      "text/html": [
       "<div>\n",
       "<style scoped>\n",
       "    .dataframe tbody tr th:only-of-type {\n",
       "        vertical-align: middle;\n",
       "    }\n",
       "\n",
       "    .dataframe tbody tr th {\n",
       "        vertical-align: top;\n",
       "    }\n",
       "\n",
       "    .dataframe thead th {\n",
       "        text-align: right;\n",
       "    }\n",
       "</style>\n",
       "<table border=\"1\" class=\"dataframe\">\n",
       "  <thead>\n",
       "    <tr style=\"text-align: right;\">\n",
       "      <th></th>\n",
       "      <th>Price</th>\n",
       "      <th>Total_Area(SQFT)</th>\n",
       "      <th>Price_per_SQFT</th>\n",
       "      <th>Total_Rooms</th>\n",
       "      <th>BHK</th>\n",
       "    </tr>\n",
       "  </thead>\n",
       "  <tbody>\n",
       "    <tr>\n",
       "      <th>count</th>\n",
       "      <td>1.452500e+04</td>\n",
       "      <td>14525.000000</td>\n",
       "      <td>14525.000000</td>\n",
       "      <td>14525.000000</td>\n",
       "      <td>14513.000000</td>\n",
       "    </tr>\n",
       "    <tr>\n",
       "      <th>mean</th>\n",
       "      <td>1.067464e+07</td>\n",
       "      <td>1297.661824</td>\n",
       "      <td>11721.876764</td>\n",
       "      <td>2.750981</td>\n",
       "      <td>10.192173</td>\n",
       "    </tr>\n",
       "    <tr>\n",
       "      <th>std</th>\n",
       "      <td>1.867463e+07</td>\n",
       "      <td>1245.673547</td>\n",
       "      <td>49040.843384</td>\n",
       "      <td>0.898080</td>\n",
       "      <td>81.673135</td>\n",
       "    </tr>\n",
       "    <tr>\n",
       "      <th>min</th>\n",
       "      <td>5.500000e+04</td>\n",
       "      <td>70.000000</td>\n",
       "      <td>1000.000000</td>\n",
       "      <td>1.000000</td>\n",
       "      <td>1.000000</td>\n",
       "    </tr>\n",
       "    <tr>\n",
       "      <th>25%</th>\n",
       "      <td>3.700000e+06</td>\n",
       "      <td>650.000000</td>\n",
       "      <td>4480.000000</td>\n",
       "      <td>2.000000</td>\n",
       "      <td>2.000000</td>\n",
       "    </tr>\n",
       "    <tr>\n",
       "      <th>50%</th>\n",
       "      <td>6.500000e+06</td>\n",
       "      <td>1000.000000</td>\n",
       "      <td>6060.000000</td>\n",
       "      <td>3.000000</td>\n",
       "      <td>2.000000</td>\n",
       "    </tr>\n",
       "    <tr>\n",
       "      <th>75%</th>\n",
       "      <td>1.140000e+07</td>\n",
       "      <td>1438.000000</td>\n",
       "      <td>9320.000000</td>\n",
       "      <td>3.000000</td>\n",
       "      <td>3.000000</td>\n",
       "    </tr>\n",
       "    <tr>\n",
       "      <th>max</th>\n",
       "      <td>8.400000e+08</td>\n",
       "      <td>35000.000000</td>\n",
       "      <td>999000.000000</td>\n",
       "      <td>6.000000</td>\n",
       "      <td>4522.000000</td>\n",
       "    </tr>\n",
       "  </tbody>\n",
       "</table>\n",
       "</div>"
      ],
      "text/plain": [
       "              Price  Total_Area(SQFT)  Price_per_SQFT   Total_Rooms  \\\n",
       "count  1.452500e+04      14525.000000    14525.000000  14525.000000   \n",
       "mean   1.067464e+07       1297.661824    11721.876764      2.750981   \n",
       "std    1.867463e+07       1245.673547    49040.843384      0.898080   \n",
       "min    5.500000e+04         70.000000     1000.000000      1.000000   \n",
       "25%    3.700000e+06        650.000000     4480.000000      2.000000   \n",
       "50%    6.500000e+06       1000.000000     6060.000000      3.000000   \n",
       "75%    1.140000e+07       1438.000000     9320.000000      3.000000   \n",
       "max    8.400000e+08      35000.000000   999000.000000      6.000000   \n",
       "\n",
       "                BHK  \n",
       "count  14513.000000  \n",
       "mean      10.192173  \n",
       "std       81.673135  \n",
       "min        1.000000  \n",
       "25%        2.000000  \n",
       "50%        2.000000  \n",
       "75%        3.000000  \n",
       "max     4522.000000  "
      ]
     },
     "execution_count": 6,
     "metadata": {},
     "output_type": "execute_result"
    }
   ],
   "source": [
    "# Let's look at some statistical information about\n",
    "#our dataframe.\n",
    "new.describe()"
   ]
  },
  {
   "cell_type": "markdown",
   "id": "d94b9fac",
   "metadata": {},
   "source": [
    "# Identify & Treatment of Outlier "
   ]
  },
  {
   "cell_type": "code",
   "execution_count": 7,
   "id": "bb753a66",
   "metadata": {},
   "outputs": [
    {
     "data": {
      "text/plain": [
       "<AxesSubplot:ylabel='BHK'>"
      ]
     },
     "execution_count": 7,
     "metadata": {},
     "output_type": "execute_result"
    },
    {
     "data": {
      "image/png": "[encoded data removed]",
      "text/plain": [
       "<Figure size 432x288 with 1 Axes>"
      ]
     },
     "metadata": {
      "needs_background": "light"
     },
     "output_type": "display_data"
    }
   ],
   "source": [
    "sns.boxplot(y='BHK',data=new)"
   ]
  },
  {
   "cell_type": "code",
   "execution_count": 8,
   "id": "01dffac9",
   "metadata": {},
   "outputs": [],
   "source": [
    "new[\"BHK\"]=np.where(new[\"BHK\"] > 10.5,new[\"BHK\"].median(),new[\"BHK\"]) # replacement values with median\n",
    "new[\"BHK\"].fillna(new[\"BHK\"].median(),inplace=True) # replacement null values with median"
   ]
  },
  {
   "cell_type": "code",
   "execution_count": 9,
   "id": "8fd25160",
   "metadata": {},
   "outputs": [],
   "source": [
    "new.to_csv('output.csv', index=False)"
   ]
  }
 ],
 "metadata": {
  "kernelspec": {
   "display_name": "Python 3 (ipykernel)",
   "language": "python",
   "name": "python3"
  },
  "language_info": {
   "codemirror_mode": {
    "name": "ipython",
    "version": 3
   },
   "file_extension": ".py",
   "mimetype": "text/x-python",
   "name": "python",
   "nbconvert_exporter": "python",
   "pygments_lexer": "ipython3",
   "version": "3.9.12"
  }
 },
 "nbformat": 4,
 "nbformat_minor": 5
}
